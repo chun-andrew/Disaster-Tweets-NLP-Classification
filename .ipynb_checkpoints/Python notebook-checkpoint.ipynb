{
 "cells": [
  {
   "cell_type": "code",
   "execution_count": 24,
   "id": "0ea3926f",
   "metadata": {},
   "outputs": [
    {
     "name": "stdout",
     "output_type": "stream",
     "text": [
      "Requirement already satisfied: fasttext in /usr/local/Cellar/jupyterlab/3.2.4/libexec/lib/python3.9/site-packages (0.9.2)\n",
      "Requirement already satisfied: pybind11>=2.2 in /usr/local/Cellar/jupyterlab/3.2.4/libexec/lib/python3.9/site-packages (from fasttext) (2.8.1)\n",
      "Requirement already satisfied: setuptools>=0.7.0 in /usr/local/Cellar/jupyterlab/3.2.4/libexec/lib/python3.9/site-packages (from fasttext) (58.5.3)\n",
      "Requirement already satisfied: numpy in /Users/shivram/Library/Python/3.9/lib/python/site-packages (from fasttext) (1.21.2)\n",
      "Requirement already satisfied: pandas in /usr/local/Cellar/jupyterlab/3.2.4/libexec/lib/python3.9/site-packages (1.3.4)\n",
      "Requirement already satisfied: numpy>=1.17.3 in /Users/shivram/Library/Python/3.9/lib/python/site-packages (from pandas) (1.21.2)\n",
      "Requirement already satisfied: pytz>=2017.3 in /usr/local/Cellar/jupyterlab/3.2.4/libexec/lib/python3.9/site-packages (from pandas) (2021.3)\n",
      "Requirement already satisfied: python-dateutil>=2.7.3 in /usr/local/Cellar/jupyterlab/3.2.4/libexec/lib/python3.9/site-packages (from pandas) (2.8.2)\n",
      "Requirement already satisfied: six>=1.5 in /usr/local/Cellar/six/1.16.0_2/lib/python3.9/site-packages (from python-dateutil>=2.7.3->pandas) (1.16.0)\n",
      "Requirement already satisfied: numpy in /Users/shivram/Library/Python/3.9/lib/python/site-packages (1.21.2)\n",
      "Requirement already satisfied: sklearn in /usr/local/Cellar/jupyterlab/3.2.4/libexec/lib/python3.9/site-packages (0.0)\n",
      "Requirement already satisfied: scikit-learn in /usr/local/Cellar/jupyterlab/3.2.4/libexec/lib/python3.9/site-packages (from sklearn) (1.0.1)\n",
      "Requirement already satisfied: joblib>=0.11 in /usr/local/Cellar/jupyterlab/3.2.4/libexec/lib/python3.9/site-packages (from scikit-learn->sklearn) (1.1.0)\n",
      "Requirement already satisfied: scipy>=1.1.0 in /Users/shivram/Library/Python/3.9/lib/python/site-packages (from scikit-learn->sklearn) (1.7.1)\n",
      "Requirement already satisfied: numpy>=1.14.6 in /Users/shivram/Library/Python/3.9/lib/python/site-packages (from scikit-learn->sklearn) (1.21.2)\n",
      "Requirement already satisfied: threadpoolctl>=2.0.0 in /usr/local/Cellar/jupyterlab/3.2.4/libexec/lib/python3.9/site-packages (from scikit-learn->sklearn) (3.0.0)\n"
     ]
    }
   ],
   "source": [
    "import sys\n",
    "!{sys.executable} -m pip install fasttext\n",
    "!{sys.executable} -m pip install pandas\n",
    "!{sys.executable} -m pip install numpy\n",
    "!{sys.executable} -m pip install sklearn"
   ]
  },
  {
   "cell_type": "code",
   "execution_count": 26,
   "id": "406af77f",
   "metadata": {},
   "outputs": [],
   "source": [
    "import pandas as pd\n",
    "import numpy as np\n",
    "import sklearn\n",
    "import re\n",
    "import string\n",
    "import fasttext"
   ]
  },
  {
   "cell_type": "code",
   "execution_count": 27,
   "id": "bffc69db",
   "metadata": {},
   "outputs": [],
   "source": [
    "from sklearn.feature_extraction.text import TfidfVectorizer\n",
    "from sklearn.linear_model import LogisticRegression"
   ]
  },
  {
   "cell_type": "code",
   "execution_count": 32,
   "id": "060c3143",
   "metadata": {
    "scrolled": true
   },
   "outputs": [
    {
     "name": "stdout",
     "output_type": "stream",
     "text": [
      "                                                text  target\n",
      "0  Our Deeds are the Reason of this #earthquake M...       1\n",
      "1             Forest fire near La Ronge Sask. Canada       1\n",
      "2  All residents asked to 'shelter in place' are ...       1\n",
      "3  13,000 people receive #wildfires evacuation or...       1\n",
      "4  Just got sent this photo from Ruby #Alaska as ...       1\n",
      "                                                text\n",
      "0                 Just happened a terrible car crash\n",
      "1  Heard about #earthquake is different cities, s...\n",
      "2  there is a forest fire at spot pond, geese are...\n",
      "3           Apocalypse lighting. #Spokane #wildfires\n",
      "4      Typhoon Soudelor kills 28 in China and Taiwan\n"
     ]
    }
   ],
   "source": [
    "train_data = pd.read_csv('train.csv')\n",
    "train_data = train_data.drop(columns=['id', 'keyword', 'location'])\n",
    "test_data = pd.read_csv('test.csv')\n",
    "test_data = test_data.drop(columns=['id', 'keyword', 'location'])\n",
    "\n",
    "print(train_data.head(5))\n",
    "print(test_data.head(5))"
   ]
  },
  {
   "cell_type": "code",
   "execution_count": 3,
   "id": "ac9330e0",
   "metadata": {},
   "outputs": [],
   "source": [
    "def remove_URL(text):\n",
    "    url = re.compile(r'https?://\\S+|www\\.\\S+')\n",
    "    return url.sub(r'',text)\n",
    "\n",
    "def remove_html(text):\n",
    "    html = re.compile(r'<.*?>')\n",
    "    return html.sub(r'',text)\n",
    "\n",
    "def remove_emoji(text):\n",
    "    emoji_pattern = re.compile(\"[\"\n",
    "                           u\"\\U0001F600-\\U0001F64F\"  # emoticons\n",
    "                           u\"\\U0001F300-\\U0001F5FF\"  # symbols & pictographs\n",
    "                           u\"\\U0001F680-\\U0001F6FF\"  # transport & map symbols\n",
    "                           u\"\\U0001F1E0-\\U0001F1FF\"  # flags (iOS)\n",
    "                           u\"\\U00002702-\\U000027B0\"\n",
    "                           u\"\\U000024C2-\\U0001F251\"\n",
    "                           \"]+\", flags=re.UNICODE)\n",
    "    return emoji_pattern.sub(r'', text)\n",
    "\n",
    "def remove_at(text):\n",
    "    at = re.compile(r'\\@(\\w+)')\n",
    "    return at.sub(r'', text)\n",
    "\n",
    "def remove_punct(text):\n",
    "    table = str.maketrans('','',string.punctuation)\n",
    "    return text.translate(table)"
   ]
  },
  {
   "cell_type": "code",
   "execution_count": 43,
   "id": "8de9250e",
   "metadata": {},
   "outputs": [],
   "source": [
    "def cleanTweets(data):\n",
    "    text = data['text']\n",
    "    text = text.apply(lambda x: remove_URL(x)) \\\n",
    "               .apply(lambda x: remove_html(x)) \\\n",
    "               .apply(lambda x: remove_emoji(x)) \\\n",
    "               .apply(lambda x: remove_at(x)) \\\n",
    "               .apply(lambda x: remove_punct(x))\n",
    "    return text.to_numpy()\n",
    "\n",
    "def obtainTargets(data):\n",
    "    return data['target'].to_numpy()"
   ]
  },
  {
   "cell_type": "code",
   "execution_count": 45,
   "id": "bbc016f4",
   "metadata": {},
   "outputs": [
    {
     "name": "stdout",
     "output_type": "stream",
     "text": [
      "['Our Deeds are the Reason of this earthquake May ALLAH Forgive us all'\n",
      " 'Forest fire near La Ronge Sask Canada'\n",
      " 'All residents asked to shelter in place are being notified by officers No other evacuation or shelter in place orders are expected'\n",
      " ... 'M194 0104 UTC5km S of Volcano Hawaii '\n",
      " 'Police investigating after an ebike collided with a car in Little Portugal Ebike rider suffered serious nonlife threatening injuries'\n",
      " 'The Latest More Homes Razed by Northern California Wildfire  ABC News ']\n",
      "[1 1 1 ... 1 1 1]\n"
     ]
    }
   ],
   "source": [
    "print(cleanTweets(train_data))\n",
    "print(obtainTargets(train_data))"
   ]
  },
  {
   "cell_type": "code",
   "execution_count": 6,
   "id": "0c1a3e19",
   "metadata": {},
   "outputs": [],
   "source": [
    "train_data_text = '\\n'.join(train_data['text'].astype(str).values)\n",
    "# print(train_data_text)"
   ]
  },
  {
   "cell_type": "code",
   "execution_count": 7,
   "id": "fe449bc9",
   "metadata": {},
   "outputs": [],
   "source": [
    "with open(\"data.txt\", \"w\") as file:\n",
    "    file.write(train_data_text)"
   ]
  },
  {
   "cell_type": "code",
   "execution_count": 8,
   "id": "83ff01ea",
   "metadata": {},
   "outputs": [
    {
     "name": "stdout",
     "output_type": "stream",
     "text": [
      "Requirement already satisfied: fasttext in /usr/local/Cellar/jupyterlab/3.2.4/libexec/lib/python3.9/site-packages (0.9.2)\r\n",
      "Requirement already satisfied: setuptools>=0.7.0 in /usr/local/Cellar/jupyterlab/3.2.4/libexec/lib/python3.9/site-packages (from fasttext) (58.5.3)\r\n",
      "Requirement already satisfied: pybind11>=2.2 in /usr/local/Cellar/jupyterlab/3.2.4/libexec/lib/python3.9/site-packages (from fasttext) (2.8.1)\r\n",
      "Requirement already satisfied: numpy in /Users/shivram/Library/Python/3.9/lib/python/site-packages (from fasttext) (1.21.2)\r\n"
     ]
    },
    {
     "name": "stderr",
     "output_type": "stream",
     "text": [
      "Read 0M words\n",
      "Number of words:  3141\n",
      "Number of labels: 0\n",
      "Progress: 100.0% words/sec/thread:   96535 lr:  0.000000 avg.loss:  2.534014 ETA:   0h 0m 0s-0.000008 avg.loss:  2.534014 ETA:   0h 0m 0s\n"
     ]
    }
   ],
   "source": [
    "! /usr/local/Cellar/jupyterlab/3.2.4/libexec/bin/python3.9 -m pip install fasttext\n",
    "import fasttext\n",
    "model = fasttext.train_unsupervised('data.txt', model='skipgram')"
   ]
  },
  {
   "cell_type": "code",
   "execution_count": 9,
   "id": "89f09c48",
   "metadata": {},
   "outputs": [],
   "source": [
    "# print(model.words)"
   ]
  },
  {
   "cell_type": "code",
   "execution_count": 10,
   "id": "1369442d",
   "metadata": {},
   "outputs": [
    {
     "name": "stdout",
     "output_type": "stream",
     "text": [
      "100\n"
     ]
    }
   ],
   "source": [
    "print(model['lol'].size)"
   ]
  },
  {
   "cell_type": "code",
   "execution_count": 11,
   "id": "d0a9ef4a",
   "metadata": {},
   "outputs": [],
   "source": [
    "from sklearn.feature_extraction.text import TfidfVectorizer\n"
   ]
  },
  {
   "cell_type": "code",
   "execution_count": 12,
   "id": "c42dccb9",
   "metadata": {},
   "outputs": [],
   "source": [
    "corpus = train_data['text'].to_list()\n",
    "vectorizer = TfidfVectorizer()"
   ]
  },
  {
   "cell_type": "code",
   "execution_count": 13,
   "id": "7a90c82b",
   "metadata": {},
   "outputs": [],
   "source": [
    "X = vectorizer.fit_transform(corpus)"
   ]
  },
  {
   "cell_type": "code",
   "execution_count": 14,
   "id": "4513b7be",
   "metadata": {},
   "outputs": [
    {
     "data": {
      "text/plain": [
       "array(['0011', '001116', '0025', ..., 'ûónegligence', 'ûótech', 'ûówe'],\n",
       "      dtype=object)"
      ]
     },
     "execution_count": 14,
     "metadata": {},
     "output_type": "execute_result"
    }
   ],
   "source": [
    "vectorizer.get_feature_names_out()"
   ]
  },
  {
   "cell_type": "code",
   "execution_count": 15,
   "id": "47078285",
   "metadata": {},
   "outputs": [
    {
     "name": "stdout",
     "output_type": "stream",
     "text": [
      "(7613, 15586)\n"
     ]
    }
   ],
   "source": [
    "print(X.shape)"
   ]
  },
  {
   "cell_type": "code",
   "execution_count": 16,
   "id": "9fb1a1e3",
   "metadata": {},
   "outputs": [
    {
     "name": "stdout",
     "output_type": "stream",
     "text": [
      "RUNNING THE L-BFGS-B CODE\n",
      "\n",
      "           * * *\n",
      "\n",
      "Machine precision = 2.220D-16\n",
      " N =        15587     M =           10\n",
      "\n",
      "At X0         0 variables are exactly at the bounds\n",
      "\n",
      "At iterate    0    f=  5.27693D+03    |proj g|=  5.35500D+02\n",
      "\n",
      "At iterate    1    f=  5.19197D+03    |proj g|=  3.33501D+01\n",
      "\n",
      "At iterate    2    f=  5.00512D+03    |proj g|=  1.18001D+02\n",
      "\n",
      "At iterate    3    f=  3.99907D+03    |proj g|=  1.11847D+02\n",
      "\n",
      "At iterate    4    f=  3.70244D+03    |proj g|=  1.40865D+02\n",
      "\n",
      "At iterate    5    f=  3.55485D+03    |proj g|=  4.40603D+01\n",
      "\n",
      "At iterate    6    f=  3.53616D+03    |proj g|=  6.26178D+00\n",
      "\n",
      "At iterate    7    f=  3.52956D+03    |proj g|=  2.95105D+01\n",
      "\n",
      "At iterate    8    f=  3.52407D+03    |proj g|=  3.51722D+01\n",
      "\n",
      "At iterate    9    f=  3.51455D+03    |proj g|=  2.25204D+01\n",
      "\n",
      "At iterate   10    f=  3.50779D+03    |proj g|=  2.21373D+00\n",
      "\n",
      "At iterate   11    f=  3.50705D+03    |proj g|=  5.71889D+00\n",
      "\n",
      "At iterate   12    f=  3.50696D+03    |proj g|=  8.30297D+00\n",
      "\n",
      "At iterate   13    f=  3.50659D+03    |proj g|=  4.87109D+00\n",
      "\n"
     ]
    },
    {
     "name": "stderr",
     "output_type": "stream",
     "text": [
      "[Parallel(n_jobs=1)]: Using backend SequentialBackend with 1 concurrent workers.\n",
      " This problem is unconstrained.\n"
     ]
    },
    {
     "name": "stdout",
     "output_type": "stream",
     "text": [
      "At iterate   14    f=  3.50544D+03    |proj g|=  2.20042D+00\n",
      "\n",
      "At iterate   15    f=  3.50415D+03    |proj g|=  6.32767D-01\n",
      "\n",
      "At iterate   16    f=  3.50390D+03    |proj g|=  1.19481D+00\n",
      "\n",
      "At iterate   17    f=  3.50384D+03    |proj g|=  2.43939D+00\n",
      "\n",
      "At iterate   18    f=  3.50379D+03    |proj g|=  7.49720D-01\n",
      "\n",
      "At iterate   19    f=  3.50377D+03    |proj g|=  4.61691D-01\n",
      "\n",
      "At iterate   20    f=  3.50374D+03    |proj g|=  7.16354D-02\n",
      "\n",
      "At iterate   21    f=  3.50373D+03    |proj g|=  3.13213D-01\n",
      "\n",
      "At iterate   22    f=  3.50372D+03    |proj g|=  3.46485D-01\n",
      "\n",
      "At iterate   23    f=  3.50372D+03    |proj g|=  5.20671D-01\n",
      "\n",
      "At iterate   24    f=  3.50372D+03    |proj g|=  1.79517D-01\n",
      "\n",
      "At iterate   25    f=  3.50372D+03    |proj g|=  3.95216D-02\n",
      "\n",
      "At iterate   26    f=  3.50372D+03    |proj g|=  1.17087D-01\n",
      "\n",
      "At iterate   27    f=  3.50372D+03    |proj g|=  2.12786D-01\n",
      "\n",
      "At iterate   28    f=  3.50372D+03    |proj g|=  2.34554D-02\n",
      "\n",
      "At iterate   29    f=  3.50372D+03    |proj g|=  1.97889D-01\n",
      "\n",
      "At iterate   30    f=  3.50372D+03    |proj g|=  4.13984D-02\n",
      "\n",
      "At iterate   31    f=  3.50372D+03    |proj g|=  2.86514D-02\n",
      "\n",
      "At iterate   32    f=  3.50372D+03    |proj g|=  5.56583D-02\n",
      "\n",
      "At iterate   33    f=  3.50372D+03    |proj g|=  1.01274D-01\n",
      "\n",
      "At iterate   34    f=  3.50372D+03    |proj g|=  1.46643D-01\n",
      "\n",
      "At iterate   35    f=  3.50372D+03    |proj g|=  2.50662D-01\n",
      "\n",
      "At iterate   36    f=  3.50372D+03    |proj g|=  1.58090D-02\n",
      "\n",
      "At iterate   37    f=  3.50372D+03    |proj g|=  1.12255D-02\n",
      "\n",
      "           * * *\n",
      "\n",
      "Tit   = total number of iterations\n",
      "Tnf   = total number of function evaluations\n",
      "Tnint = total number of segments explored during Cauchy searches\n",
      "Skip  = number of BFGS updates skipped\n",
      "Nact  = number of active bounds at final generalized Cauchy point\n",
      "Projg = norm of the final projected gradient\n",
      "F     = final function value\n",
      "\n",
      "           * * *\n",
      "\n",
      "   N    Tit     Tnf  Tnint  Skip  Nact     Projg        F\n",
      "15587     37     45      1     0     0   1.123D-02   3.504D+03\n",
      "  F =   3503.7181838239662     \n",
      "\n",
      "CONVERGENCE: REL_REDUCTION_OF_F_<=_FACTR*EPSMCH             \n"
     ]
    },
    {
     "name": "stderr",
     "output_type": "stream",
     "text": [
      "[Parallel(n_jobs=1)]: Done   1 out of   1 | elapsed:    0.3s remaining:    0.0s\n",
      "[Parallel(n_jobs=1)]: Done   1 out of   1 | elapsed:    0.3s finished\n"
     ]
    }
   ],
   "source": [
    "from sklearn.linear_model import LogisticRegression\n",
    "y = train_data['target'].to_numpy()\n",
    "clf = LogisticRegression(verbose=2).fit(X, y)\n"
   ]
  },
  {
   "cell_type": "code",
   "execution_count": 17,
   "id": "eeb3ff2d",
   "metadata": {},
   "outputs": [
    {
     "data": {
      "text/plain": [
       "0.8823065808485485"
      ]
     },
     "execution_count": 17,
     "metadata": {},
     "output_type": "execute_result"
    }
   ],
   "source": [
    "clf.score(X, y)"
   ]
  },
  {
   "cell_type": "code",
   "execution_count": 18,
   "id": "c09cf77c",
   "metadata": {},
   "outputs": [
    {
     "data": {
      "text/plain": [
       "array([4157,  711,  185, 2560])"
      ]
     },
     "execution_count": 18,
     "metadata": {},
     "output_type": "execute_result"
    }
   ],
   "source": [
    "from sklearn.metrics import confusion_matrix\n",
    "confusion_matrix(clf.predict(X), y).ravel()"
   ]
  },
  {
   "cell_type": "code",
   "execution_count": null,
   "id": "81263e39",
   "metadata": {},
   "outputs": [],
   "source": []
  }
 ],
 "metadata": {
  "kernelspec": {
   "display_name": "Python 3",
   "language": "python",
   "name": "python3"
  },
  "language_info": {
   "codemirror_mode": {
    "name": "ipython",
    "version": 3
   },
   "file_extension": ".py",
   "mimetype": "text/x-python",
   "name": "python",
   "nbconvert_exporter": "python",
   "pygments_lexer": "ipython3",
   "version": "3.9.9"
  }
 },
 "nbformat": 4,
 "nbformat_minor": 5
}
