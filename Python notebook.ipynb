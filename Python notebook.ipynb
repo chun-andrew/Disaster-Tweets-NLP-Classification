{
 "cells": [
  {
   "cell_type": "code",
   "execution_count": null,
   "id": "0ea3926f",
   "metadata": {},
   "outputs": [],
   "source": [
    "import sys\n",
    "!{sys.executable} -m pip install pandas\n",
    "!{sys.executable} -m pip install numpy\n",
    "!{sys.executable} -m pip install sklearn\n",
    "!{sys.executable} -m pip install seaborn\n",
    "!{sys.executable} -m pip install matplotlib\n",
    "!{sys.executable} -m pip install keras\n",
    "!{sys.executable} -m pip install tensorflow"
   ]
  },
  {
   "cell_type": "code",
   "execution_count": 14,
   "id": "406af77f",
   "metadata": {},
   "outputs": [],
   "source": [
    "import pandas as pd\n",
    "import numpy as np\n",
    "import sklearn\n",
    "import re\n",
    "import string\n",
    "import seaborn as sn\n",
    "import matplotlib.pyplot as plt\n",
    "import torch"
   ]
  },
  {
   "cell_type": "code",
   "execution_count": 15,
   "id": "88bb17fd",
   "metadata": {},
   "outputs": [],
   "source": [
    "from sklearn.feature_extraction.text import TfidfVectorizer\n",
    "from sklearn.linear_model import LogisticRegression\n",
    "from sklearn.metrics import confusion_matrix\n",
    "from sklearn.model_selection import train_test_split"
   ]
  },
  {
   "cell_type": "code",
   "execution_count": 16,
   "id": "060c3143",
   "metadata": {
    "scrolled": true
   },
   "outputs": [
    {
     "name": "stdout",
     "output_type": "stream",
     "text": [
      "                                                text  target\n",
      "0  Our Deeds are the Reason of this #earthquake M...       1\n",
      "1             Forest fire near La Ronge Sask. Canada       1\n",
      "2  All residents asked to 'shelter in place' are ...       1\n",
      "3  13,000 people receive #wildfires evacuation or...       1\n",
      "4  Just got sent this photo from Ruby #Alaska as ...       1\n"
     ]
    }
   ],
   "source": [
    "data = pd.read_csv('train.csv')\n",
    "data = data.drop(columns=['id', 'keyword', 'location'])\n",
    "\n",
    "print(data.head(5))"
   ]
  },
  {
   "cell_type": "code",
   "execution_count": 17,
   "id": "ac9330e0",
   "metadata": {},
   "outputs": [],
   "source": [
    "def remove_URL(text):\n",
    "    url = re.compile(r'https?://\\S+|www\\.\\S+')\n",
    "    return url.sub(r'',text)\n",
    "\n",
    "def remove_html(text):\n",
    "    html = re.compile(r'<.*?>')\n",
    "    return html.sub(r'',text)\n",
    "\n",
    "def remove_emoji(text):\n",
    "    emoji_pattern = re.compile(\"[\"\n",
    "                           u\"\\U0001F600-\\U0001F64F\"  # emoticons\n",
    "                           u\"\\U0001F300-\\U0001F5FF\"  # symbols & pictographs\n",
    "                           u\"\\U0001F680-\\U0001F6FF\"  # transport & map symbols\n",
    "                           u\"\\U0001F1E0-\\U0001F1FF\"  # flags (iOS)\n",
    "                           u\"\\U00002702-\\U000027B0\"\n",
    "                           u\"\\U000024C2-\\U0001F251\"\n",
    "                           \"]+\", flags=re.UNICODE)\n",
    "    return emoji_pattern.sub(r'', text)\n",
    "\n",
    "def remove_at(text):\n",
    "    at = re.compile(r'\\@(\\w+)')\n",
    "    return at.sub(r'', text)\n",
    "\n",
    "def remove_punct(text):\n",
    "    table = str.maketrans('','',string.punctuation)\n",
    "    return text.translate(table)"
   ]
  },
  {
   "cell_type": "code",
   "execution_count": 18,
   "id": "8de9250e",
   "metadata": {},
   "outputs": [],
   "source": [
    "def cleanTweets(data):\n",
    "    text = data['text']\n",
    "    text = text.apply(lambda x: remove_URL(x)) \\\n",
    "               .apply(lambda x: remove_html(x)) \\\n",
    "               .apply(lambda x: remove_emoji(x)) \\\n",
    "               .apply(lambda x: remove_at(x)) \\\n",
    "               .apply(lambda x: remove_punct(x))\n",
    "    return text.to_numpy()\n",
    "\n",
    "def obtainTargets(data):\n",
    "    return data['target'].to_numpy()"
   ]
  },
  {
   "cell_type": "code",
   "execution_count": 19,
   "id": "c4e44279",
   "metadata": {},
   "outputs": [
    {
     "name": "stdout",
     "output_type": "stream",
     "text": [
      "['Our Deeds are the Reason of this earthquake May ALLAH Forgive us all'\n",
      " 'Forest fire near La Ronge Sask Canada'\n",
      " 'All residents asked to shelter in place are being notified by officers No other evacuation or shelter in place orders are expected'\n",
      " ... 'M194 0104 UTC5km S of Volcano Hawaii '\n",
      " 'Police investigating after an ebike collided with a car in Little Portugal Ebike rider suffered serious nonlife threatening injuries'\n",
      " 'The Latest More Homes Razed by Northern California Wildfire  ABC News ']\n",
      "[1 1 1 ... 1 1 1]\n"
     ]
    }
   ],
   "source": [
    "X_data = cleanTweets(data)\n",
    "y_data = obtainTargets(data)\n",
    "\n",
    "print(X_data)\n",
    "print(y_data)"
   ]
  },
  {
   "cell_type": "code",
   "execution_count": 20,
   "id": "a233d73b",
   "metadata": {},
   "outputs": [],
   "source": [
    "X_train, X_test, y_train, y_test = train_test_split(X_data, y_data, test_size=0.2)"
   ]
  },
  {
   "cell_type": "code",
   "execution_count": 21,
   "id": "4d8a1079",
   "metadata": {},
   "outputs": [
    {
     "data": {
      "text/plain": [
       "<torch._C.Generator at 0x11bef1ed0>"
      ]
     },
     "execution_count": 21,
     "metadata": {},
     "output_type": "execute_result"
    }
   ],
   "source": [
    "import torch.nn as nn\n",
    "import torch.nn.functional as F\n",
    "import torch.optim as optim\n",
    "torch.manual_seed(1)"
   ]
  },
  {
   "cell_type": "code",
   "execution_count": 37,
   "id": "cc93adad",
   "metadata": {},
   "outputs": [],
   "source": [
    "import keras\n",
    "import tensorflow "
   ]
  },
  {
   "cell_type": "code",
   "execution_count": 178,
   "id": "e08b3ac5",
   "metadata": {},
   "outputs": [],
   "source": [
    "from keras.models import Model\n",
    "from keras.layers import LSTM, Activation, Dense, Dropout, Input, Embedding\n",
    "from sklearn.preprocessing import LabelEncoder\n",
    "from tensorflow.keras.optimizers import RMSprop\n",
    "from keras.preprocessing.text import Tokenizer\n",
    "from keras.preprocessing import sequence\n",
    "from tensorflow.keras.utils import to_categorical\n",
    "from keras.callbacks import EarlyStopping"
   ]
  },
  {
   "cell_type": "code",
   "execution_count": 179,
   "id": "1a125d6b",
   "metadata": {},
   "outputs": [
    {
     "data": {
      "image/png": "[encoded data removed]",
      "text/plain": [
       "<Figure size 432x288 with 1 Axes>"
      ]
     },
     "metadata": {},
     "output_type": "display_data"
    }
   ],
   "source": [
    "sn.countplot(x=y_data)\n",
    "plt.xlabel('Label')\n",
    "plt.title(\"Distribution of Tweet categories\")\n",
    "plt.show()"
   ]
  },
  {
   "cell_type": "code",
   "execution_count": 180,
   "id": "1e17881e",
   "metadata": {},
   "outputs": [],
   "source": [
    "le = LabelEncoder()\n",
    "Y = y_data\n",
    "Y = le.fit_transform(Y)\n",
    "Y = Y.reshape(-1,1)"
   ]
  },
  {
   "cell_type": "code",
   "execution_count": 181,
   "id": "85b4cb33",
   "metadata": {},
   "outputs": [],
   "source": [
    "max_words = 1000\n",
    "max_len = 100\n",
    "tok = Tokenizer(num_words=max_words)\n",
    "tok.fit_on_texts(X_train)\n",
    "sequences = tok.texts_to_sequences(X_train)\n",
    "sequences_matrix = sequence.pad_sequences(sequences,maxlen=max_len)"
   ]
  },
  {
   "cell_type": "code",
   "execution_count": 182,
   "id": "b8514835",
   "metadata": {},
   "outputs": [],
   "source": [
    "def RNN():\n",
    "    inputs = Input(name='inputs',shape=[max_len])\n",
    "    layer = Embedding(max_words,50,input_length=max_len)(inputs)\n",
    "    layer = LSTM(64)(layer)\n",
    "    layer = Dense(256,name='FC1')(layer)\n",
    "    layer = Activation('relu')(layer)\n",
    "    layer = Dropout(0.5)(layer)\n",
    "    layer = Dense(1,name='out_layer')(layer)\n",
    "    layer = Activation('sigmoid')(layer)\n",
    "    model = Model(inputs=inputs,outputs=layer)\n",
    "    return model"
   ]
  },
  {
   "cell_type": "code",
   "execution_count": 202,
   "id": "76b09e53",
   "metadata": {},
   "outputs": [
    {
     "name": "stdout",
     "output_type": "stream",
     "text": [
      "Model: \"model_27\"\n",
      "_________________________________________________________________\n",
      " Layer (type)                Output Shape              Param #   \n",
      "=================================================================\n",
      " inputs (InputLayer)         [(None, 100)]             0         \n",
      "                                                                 \n",
      " embedding_27 (Embedding)    (None, 100, 50)           50000     \n",
      "                                                                 \n",
      " lstm_27 (LSTM)              (None, 64)                29440     \n",
      "                                                                 \n",
      " FC1 (Dense)                 (None, 256)               16640     \n",
      "                                                                 \n",
      " activation_45 (Activation)  (None, 256)               0         \n",
      "                                                                 \n",
      " dropout_18 (Dropout)        (None, 256)               0         \n",
      "                                                                 \n",
      " out_layer (Dense)           (None, 1)                 257       \n",
      "                                                                 \n",
      " activation_46 (Activation)  (None, 1)                 0         \n",
      "                                                                 \n",
      "=================================================================\n",
      "Total params: 96,337\n",
      "Trainable params: 96,337\n",
      "Non-trainable params: 0\n",
      "_________________________________________________________________\n"
     ]
    }
   ],
   "source": [
    "model = RNN()\n",
    "model.summary()\n",
    "model.compile(loss='binary_crossentropy',optimizer=RMSprop(lr=0.00004),metrics=['accuracy'])"
   ]
  },
  {
   "cell_type": "code",
   "execution_count": 203,
   "id": "5c59f35f",
   "metadata": {},
   "outputs": [
    {
     "name": "stdout",
     "output_type": "stream",
     "text": [
      "[[  0   0   0 ... 338   1 550]\n",
      " [  0   0   0 ...  38  68 679]\n",
      " [  0   0   0 ...   1 680 440]\n",
      " ...\n",
      " [  0   0   0 ...   4 489 983]\n",
      " [  0   0   0 ... 111 755   5]\n",
      " [  0   0   0 ...   3 859 107]]\n"
     ]
    }
   ],
   "source": [
    "print(sequences_matrix)"
   ]
  },
  {
   "cell_type": "code",
   "execution_count": 204,
   "id": "8654e4f6",
   "metadata": {},
   "outputs": [
    {
     "name": "stdout",
     "output_type": "stream",
     "text": [
      "Epoch 1/100\n",
      "39/39 [==============================] - 6s 107ms/step - loss: 0.6902 - accuracy: 0.5800 - val_loss: 0.6903 - val_accuracy: 0.5427\n",
      "Epoch 2/100\n",
      "39/39 [==============================] - 4s 95ms/step - loss: 0.6865 - accuracy: 0.5809 - val_loss: 0.6882 - val_accuracy: 0.5427\n",
      "Epoch 3/100\n",
      "39/39 [==============================] - 3s 89ms/step - loss: 0.6824 - accuracy: 0.5809 - val_loss: 0.6864 - val_accuracy: 0.5427\n",
      "Epoch 4/100\n",
      "39/39 [==============================] - 4s 96ms/step - loss: 0.6786 - accuracy: 0.5809 - val_loss: 0.6859 - val_accuracy: 0.5427\n",
      "Epoch 5/100\n",
      "39/39 [==============================] - 4s 101ms/step - loss: 0.6759 - accuracy: 0.5809 - val_loss: 0.6856 - val_accuracy: 0.5427\n",
      "Epoch 6/100\n",
      "39/39 [==============================] - 4s 97ms/step - loss: 0.6743 - accuracy: 0.5809 - val_loss: 0.6854 - val_accuracy: 0.5427\n",
      "Epoch 7/100\n",
      "39/39 [==============================] - 3s 87ms/step - loss: 0.6724 - accuracy: 0.5809 - val_loss: 0.6835 - val_accuracy: 0.5427\n",
      "Epoch 8/100\n",
      "39/39 [==============================] - 3s 86ms/step - loss: 0.6709 - accuracy: 0.5809 - val_loss: 0.6815 - val_accuracy: 0.5427\n",
      "Epoch 9/100\n",
      "39/39 [==============================] - 3s 85ms/step - loss: 0.6685 - accuracy: 0.5809 - val_loss: 0.6792 - val_accuracy: 0.5427\n",
      "Epoch 10/100\n",
      "39/39 [==============================] - 3s 88ms/step - loss: 0.6658 - accuracy: 0.5809 - val_loss: 0.6775 - val_accuracy: 0.5427\n",
      "Epoch 11/100\n",
      "39/39 [==============================] - 3s 88ms/step - loss: 0.6630 - accuracy: 0.5809 - val_loss: 0.6751 - val_accuracy: 0.5427\n",
      "Epoch 12/100\n",
      "39/39 [==============================] - 3s 89ms/step - loss: 0.6595 - accuracy: 0.5817 - val_loss: 0.6711 - val_accuracy: 0.5427\n",
      "Epoch 13/100\n",
      "39/39 [==============================] - 3s 87ms/step - loss: 0.6546 - accuracy: 0.5866 - val_loss: 0.6679 - val_accuracy: 0.5484\n",
      "Epoch 14/100\n",
      "39/39 [==============================] - 3s 88ms/step - loss: 0.6499 - accuracy: 0.5940 - val_loss: 0.6626 - val_accuracy: 0.5632\n",
      "Epoch 15/100\n",
      "39/39 [==============================] - 3s 88ms/step - loss: 0.6443 - accuracy: 0.6037 - val_loss: 0.6568 - val_accuracy: 0.5755\n",
      "Epoch 16/100\n",
      "39/39 [==============================] - 3s 89ms/step - loss: 0.6375 - accuracy: 0.6162 - val_loss: 0.6513 - val_accuracy: 0.5928\n",
      "Epoch 17/100\n",
      "39/39 [==============================] - 3s 89ms/step - loss: 0.6310 - accuracy: 0.6303 - val_loss: 0.6438 - val_accuracy: 0.6133\n",
      "Epoch 18/100\n",
      "39/39 [==============================] - 3s 90ms/step - loss: 0.6218 - accuracy: 0.6502 - val_loss: 0.6370 - val_accuracy: 0.6207\n",
      "Epoch 19/100\n",
      "39/39 [==============================] - 4s 92ms/step - loss: 0.6132 - accuracy: 0.6661 - val_loss: 0.6285 - val_accuracy: 0.6453\n",
      "Epoch 20/100\n",
      "39/39 [==============================] - 4s 93ms/step - loss: 0.6028 - accuracy: 0.6845 - val_loss: 0.6188 - val_accuracy: 0.6634\n",
      "Epoch 21/100\n",
      "39/39 [==============================] - 4s 93ms/step - loss: 0.5935 - accuracy: 0.7003 - val_loss: 0.6073 - val_accuracy: 0.6929\n",
      "Epoch 22/100\n",
      "39/39 [==============================] - 4s 93ms/step - loss: 0.5802 - accuracy: 0.7190 - val_loss: 0.5954 - val_accuracy: 0.7126\n",
      "Epoch 23/100\n",
      "39/39 [==============================] - 4s 94ms/step - loss: 0.5669 - accuracy: 0.7373 - val_loss: 0.5835 - val_accuracy: 0.7258\n",
      "Epoch 24/100\n",
      "39/39 [==============================] - 4s 95ms/step - loss: 0.5538 - accuracy: 0.7498 - val_loss: 0.5777 - val_accuracy: 0.7069\n",
      "Epoch 25/100\n",
      "39/39 [==============================] - 4s 95ms/step - loss: 0.5412 - accuracy: 0.7582 - val_loss: 0.5586 - val_accuracy: 0.7348\n",
      "Epoch 26/100\n",
      "39/39 [==============================] - 4s 96ms/step - loss: 0.5243 - accuracy: 0.7679 - val_loss: 0.5454 - val_accuracy: 0.7586\n",
      "Epoch 27/100\n",
      "39/39 [==============================] - 4s 99ms/step - loss: 0.5135 - accuracy: 0.7796 - val_loss: 0.5536 - val_accuracy: 0.7167\n",
      "Epoch 28/100\n",
      "39/39 [==============================] - 4s 102ms/step - loss: 0.5043 - accuracy: 0.7752 - val_loss: 0.5285 - val_accuracy: 0.7619\n",
      "Epoch 29/100\n",
      "39/39 [==============================] - 4s 94ms/step - loss: 0.4979 - accuracy: 0.7826 - val_loss: 0.5520 - val_accuracy: 0.7192\n",
      "Epoch 30/100\n",
      "39/39 [==============================] - 4s 99ms/step - loss: 0.4918 - accuracy: 0.7835 - val_loss: 0.5149 - val_accuracy: 0.7668\n",
      "Epoch 31/100\n",
      "39/39 [==============================] - 4s 94ms/step - loss: 0.4824 - accuracy: 0.7902 - val_loss: 0.5680 - val_accuracy: 0.7126\n",
      "Epoch 32/100\n",
      "39/39 [==============================] - 4s 112ms/step - loss: 0.4757 - accuracy: 0.7954 - val_loss: 0.5059 - val_accuracy: 0.7709\n",
      "Epoch 33/100\n",
      "39/39 [==============================] - 4s 99ms/step - loss: 0.4724 - accuracy: 0.7984 - val_loss: 0.5185 - val_accuracy: 0.7504\n",
      "Epoch 34/100\n",
      "39/39 [==============================] - 4s 95ms/step - loss: 0.4658 - accuracy: 0.7952 - val_loss: 0.5061 - val_accuracy: 0.7627\n",
      "Epoch 35/100\n",
      "39/39 [==============================] - 4s 103ms/step - loss: 0.4593 - accuracy: 0.7966 - val_loss: 0.4936 - val_accuracy: 0.7685\n",
      "Epoch 36/100\n",
      "39/39 [==============================] - 4s 104ms/step - loss: 0.4551 - accuracy: 0.7999 - val_loss: 0.4928 - val_accuracy: 0.7816\n",
      "Epoch 37/100\n",
      "39/39 [==============================] - 4s 107ms/step - loss: 0.4522 - accuracy: 0.8015 - val_loss: 0.4982 - val_accuracy: 0.7627\n",
      "Epoch 38/100\n",
      "39/39 [==============================] - 4s 92ms/step - loss: 0.4456 - accuracy: 0.8003 - val_loss: 0.4845 - val_accuracy: 0.7824\n",
      "Epoch 39/100\n",
      "39/39 [==============================] - 3s 89ms/step - loss: 0.4445 - accuracy: 0.8036 - val_loss: 0.4901 - val_accuracy: 0.7693\n",
      "Epoch 40/100\n",
      "39/39 [==============================] - 4s 93ms/step - loss: 0.4408 - accuracy: 0.8067 - val_loss: 0.4788 - val_accuracy: 0.7718\n",
      "Epoch 41/100\n",
      "39/39 [==============================] - 4s 93ms/step - loss: 0.4367 - accuracy: 0.8085 - val_loss: 0.4854 - val_accuracy: 0.7750\n",
      "Epoch 42/100\n",
      "39/39 [==============================] - 4s 90ms/step - loss: 0.4328 - accuracy: 0.8122 - val_loss: 0.4773 - val_accuracy: 0.7734\n",
      "Epoch 43/100\n",
      "39/39 [==============================] - 3s 89ms/step - loss: 0.4267 - accuracy: 0.8093 - val_loss: 0.4734 - val_accuracy: 0.7759\n",
      "Epoch 44/100\n",
      "39/39 [==============================] - 3s 89ms/step - loss: 0.4238 - accuracy: 0.8136 - val_loss: 0.5192 - val_accuracy: 0.7545\n",
      "Epoch 45/100\n",
      "39/39 [==============================] - 4s 90ms/step - loss: 0.4226 - accuracy: 0.8159 - val_loss: 0.5186 - val_accuracy: 0.7553\n",
      "Epoch 46/100\n",
      "39/39 [==============================] - 3s 90ms/step - loss: 0.4196 - accuracy: 0.8136 - val_loss: 0.5143 - val_accuracy: 0.7562\n"
     ]
    }
   ],
   "source": [
    "history = model.fit(sequences_matrix,y_train,batch_size=128,epochs=100,\n",
    "          validation_split=0.2,callbacks=[EarlyStopping(patience=3,monitor='val_loss')])"
   ]
  },
  {
   "cell_type": "code",
   "execution_count": 205,
   "id": "ea95ee7c",
   "metadata": {},
   "outputs": [],
   "source": [
    "test_sequences = tok.texts_to_sequences(X_test)\n",
    "test_sequences_matrix = sequence.pad_sequences(test_sequences,maxlen=max_len)\n"
   ]
  },
  {
   "cell_type": "code",
   "execution_count": 206,
   "id": "ffd02a66",
   "metadata": {},
   "outputs": [
    {
     "name": "stdout",
     "output_type": "stream",
     "text": [
      "48/48 [==============================] - 1s 11ms/step - loss: 0.5089 - accuracy: 0.7702\n"
     ]
    }
   ],
   "source": [
    "accr = model.evaluate(test_sequences_matrix,y_test)"
   ]
  },
  {
   "cell_type": "code",
   "execution_count": 213,
   "id": "ac2d6881",
   "metadata": {},
   "outputs": [
    {
     "data": {
      "image/png": "[encoded data removed]",
      "text/plain": [
       "<Figure size 432x288 with 1 Axes>"
      ]
     },
     "metadata": {},
     "output_type": "display_data"
    }
   ],
   "source": [
    "plt.plot(history.history['accuracy'])\n",
    "plt.plot(history.history['val_accuracy'])\n",
    "plt.title('Model accuracy')\n",
    "plt.ylabel('Accuracy')\n",
    "plt.xlabel('Epoch')\n",
    "plt.legend(['Train', 'Validation'], loc='upper left')\n",
    "plt.show()"
   ]
  },
  {
   "cell_type": "code",
   "execution_count": 212,
   "id": "8f15dd8a",
   "metadata": {},
   "outputs": [
    {
     "data": {
      "image/png": "[encoded data removed]",
      "text/plain": [
       "<Figure size 432x288 with 1 Axes>"
      ]
     },
     "metadata": {},
     "output_type": "display_data"
    }
   ],
   "source": [
    "plt.plot(history.history['loss'])\n",
    "plt.plot(history.history['val_loss'])\n",
    "plt.title('Model loss')\n",
    "plt.ylabel('Loss')\n",
    "plt.xlabel('Epoch')\n",
    "plt.legend(['Train', 'Validation'], loc='lower left')\n",
    "plt.show()"
   ]
  },
  {
   "cell_type": "code",
   "execution_count": null,
   "id": "fb08738c",
   "metadata": {},
   "outputs": [],
   "source": []
  },
  {
   "cell_type": "code",
   "execution_count": 8,
   "id": "c42dccb9",
   "metadata": {},
   "outputs": [],
   "source": [
    "vectorizer = TfidfVectorizer()\n",
    "X = vectorizer.fit_transform(X_train)\n",
    "y = y_train"
   ]
  },
  {
   "cell_type": "code",
   "execution_count": 9,
   "id": "4513b7be",
   "metadata": {},
   "outputs": [
    {
     "name": "stdout",
     "output_type": "stream",
     "text": [
      "['001116' '0025' '005225' ... 'ûóher' 'ûókody' 'ûótech']\n",
      "(6090, 13614)\n"
     ]
    }
   ],
   "source": [
    "print(vectorizer.get_feature_names_out())\n",
    "print(X.shape)"
   ]
  },
  {
   "cell_type": "code",
   "execution_count": 10,
   "id": "9fb1a1e3",
   "metadata": {},
   "outputs": [
    {
     "name": "stdout",
     "output_type": "stream",
     "text": [
      "convergence after 22 epochs took 0 seconds\n"
     ]
    },
    {
     "name": "stderr",
     "output_type": "stream",
     "text": [
      "[Parallel(n_jobs=1)]: Using backend SequentialBackend with 1 concurrent workers.\n",
      "[Parallel(n_jobs=1)]: Done   1 out of   1 | elapsed:    0.1s remaining:    0.0s\n",
      "[Parallel(n_jobs=1)]: Done   1 out of   1 | elapsed:    0.1s finished\n"
     ]
    }
   ],
   "source": [
    "logistic_regression_model = LogisticRegression(verbose=3, solver=\"saga\").fit(X, y)"
   ]
  },
  {
   "cell_type": "code",
   "execution_count": 11,
   "id": "eeb3ff2d",
   "metadata": {},
   "outputs": [
    {
     "name": "stdout",
     "output_type": "stream",
     "text": [
      "0.814182534471438\n"
     ]
    }
   ],
   "source": [
    "print(logistic_regression_model.score(vectorizer.transform(X_test), y_test))"
   ]
  },
  {
   "cell_type": "code",
   "execution_count": 12,
   "id": "c09cf77c",
   "metadata": {},
   "outputs": [
    {
     "name": "stdout",
     "output_type": "stream",
     "text": [
      "[[788 204]\n",
      " [ 79 452]]\n"
     ]
    }
   ],
   "source": [
    "from sklearn.metrics import confusion_matrix\n",
    "tn, fp, fn, tp = confusion_matrix(logistic_regression_model.predict(vectorizer.transform(X_test)), y_test).ravel()\n",
    "cm = np.array([[tn, fp], [fn, tp]])\n",
    "print(cm)"
   ]
  },
  {
   "cell_type": "code",
   "execution_count": 13,
   "id": "81263e39",
   "metadata": {},
   "outputs": [
    {
     "data": {
      "image/png": "[encoded data removed]",
      "text/plain": [
       "<Figure size 432x288 with 2 Axes>"
      ]
     },
     "metadata": {},
     "output_type": "display_data"
    }
   ],
   "source": [
    "df_cm = pd.DataFrame(cm, ['Not a disaster', 'Disaster'], ['Not a disaster', 'Disaster'])\n",
    "sn.set(font_scale=1.4) # for label size\n",
    "sn.heatmap(df_cm, annot=True, square=\"True\", cmap=\"Blues\", fmt=\"d\")\n",
    "plt.title(\"Logistic regression confusion matrix\\n\", fontsize=18)\n",
    "plt.xlabel(\"Predicted\")\n",
    "plt.ylabel(\"Actual\")\n",
    "plt.show()"
   ]
  }
 ],
 "metadata": {
  "kernelspec": {
   "display_name": "Python 3",
   "language": "python",
   "name": "python3"
  },
  "language_info": {
   "codemirror_mode": {
    "name": "ipython",
    "version": 3
   },
   "file_extension": ".py",
   "mimetype": "text/x-python",
   "name": "python",
   "nbconvert_exporter": "python",
   "pygments_lexer": "ipython3",
   "version": "3.9.9"
  }
 },
 "nbformat": 4,
 "nbformat_minor": 5
}
