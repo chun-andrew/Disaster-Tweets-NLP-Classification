{
 "cells": [
  {
   "cell_type": "code",
   "execution_count": 1,
   "id": "d67730b0",
   "metadata": {},
   "outputs": [],
   "source": [
    "import pandas as pd\n",
    "import numpy as np\n",
    "import os\n",
    "import nltk\n",
    "import re\n",
    "import string"
   ]
  },
  {
   "cell_type": "code",
   "execution_count": 2,
   "id": "27cede41",
   "metadata": {},
   "outputs": [],
   "source": [
    "## count the number of characters\n",
    "def count_chars(text):\n",
    "    return len(text)\n",
    "\n",
    "## count the number of words\n",
    "def count_words(text):\n",
    "    return len(text.split())\n",
    "\n",
    "## count the number of sentences\n",
    "def count_sent(text):\n",
    "    return len(nltk.sent_tokenize(text))\n",
    "\n",
    "## count the number of unique words within the tweet\n",
    "def count_unique(text):\n",
    "    return len(set(text.split()))\n",
    "\n",
    "## count hashtags\n",
    "def count_htags(text):\n",
    "    return len(re.findall(r'(#w[A-Za-z0-9]*)', text))\n",
    "\n",
    "## count capital letters\n",
    "def count_capital_chars(text):\n",
    "    count = 0\n",
    "    for x in text:\n",
    "        if x.isupper():\n",
    "            count+=1\n",
    "    return count\n",
    "\n",
    "## count capital words\n",
    "def count_capital_words(text):\n",
    "    return sum(map(str.isupper, text.split()))\n",
    "\n",
    "## count number of punctuations\n",
    "def count_punctuations(text):\n",
    "    d=dict()\n",
    "    for i in string.punctuation:\n",
    "        d[str(i)+' count']=text.count(i)\n",
    "    return d\n",
    "\n",
    "## count stopwords\n",
    "def count_stopwords(text):\n",
    "    ## not sure how to do\n",
    "    return 0"
   ]
  },
  {
   "cell_type": "code",
   "execution_count": 3,
   "id": "239f823e",
   "metadata": {
    "scrolled": true
   },
   "outputs": [
    {
     "name": "stdout",
     "output_type": "stream",
     "text": [
      "load data done\n",
      "test :(3263, 4)\n",
      "training: (7613, 5)\n",
      "total keywords NA: 221\n",
      "total locations NA:3341\n"
     ]
    }
   ],
   "source": [
    "    for dirname, _, filenames in os.walk('.\\data'):\n",
    "        for filename in filenames:\n",
    "            print(os.path.join(dirname, filename))\n",
    "\n",
    "    train = pd.read_csv('./data/train.csv')\n",
    "    test = pd.read_csv('./data/test.csv')\n",
    "    print(\"load data done\")\n",
    "    print('test :' + str(test.shape))\n",
    "    \n",
    "    print('training: ' + str(train.shape))\n",
    "    print('total keywords NA: ' + str(train.keyword.nunique()))\n",
    "    print('total locations NA:' + str(train.location.nunique()))\n",
    "\n",
    "\n",
    "    "
   ]
  },
  {
   "cell_type": "code",
   "execution_count": 4,
   "id": "8db3757f",
   "metadata": {},
   "outputs": [],
   "source": [
    "    # make feature columns\n",
    "    train['char_count'] = train['text'].apply(lambda x:count_chars(x))\n",
    "    train['word_count'] = train['text'].apply(lambda x:count_words(x))\n",
    "    train['sent_count'] = train['text'].apply(lambda x:count_sent(x))\n",
    "    train['cap_char_count'] = train['text'].apply(lambda x:count_capital_chars(x))\n",
    "    train['cap_word_count'] = train['text'].apply(lambda x:count_capital_words(x))\n",
    "    train['unique_word_count'] = train['text'].apply(lambda x:count_unique(x))\n",
    "    train['htag_count'] = train['text'].apply(lambda x:count_htags(x))\n",
    "    train['punct_count'] = train['text'].apply(lambda x:count_punctuations(x))\n",
    "    # average word length\n",
    "    train['avg_word_length'] = train['char_count']/train['word_count']\n",
    "    # average sentence length\n",
    "    train['avg_sentence_length'] = train['word_count']/train['sent_count']\n",
    "    # fraction of unique to total words\n",
    "    train['unique_v_words'] = train['unique_word_count']/train['word_count']\n",
    "    # adding punctuation as features columns\n",
    "    train_punct = pd.DataFrame(list(train.punct_count))\n",
    "    train = pd.merge(train, train_punct, left_index=True, right_index=True)\n",
    "    train.drop(columns=['punct_count'], inplace=True)\n",
    "    \n",
    "    test['char_count'] = test['text'].apply(lambda x:count_chars(x))\n",
    "    test['word_count'] = test['text'].apply(lambda x:count_words(x))\n",
    "    test['sent_count'] = test['text'].apply(lambda x:count_sent(x))\n",
    "    test['cap_char_count'] = test['text'].apply(lambda x:count_capital_chars(x))\n",
    "    test['cap_word_count'] = test['text'].apply(lambda x:count_capital_words(x))\n",
    "    test['unique_word_count'] = test['text'].apply(lambda x:count_unique(x))\n",
    "    test['htag_count'] = test['text'].apply(lambda x:count_htags(x))\n",
    "    test['punct_count'] = test['text'].apply(lambda x:count_punctuations(x))\n",
    "    test['avg_word_length'] = test['char_count']/train['word_count']\n",
    "    test['avg_sentence_length'] = test['word_count']/train['sent_count']\n",
    "    test['unique_v_words'] = test['unique_word_count']/train['word_count']\n",
    "    test_punct = pd.DataFrame(list(test.punct_count))\n",
    "    test = pd.merge(test, test_punct, left_index=True, right_index=True)\n",
    "    test.drop(columns=['punct_count'], inplace=True)"
   ]
  },
  {
   "cell_type": "code",
   "execution_count": 5,
   "id": "a41288c3",
   "metadata": {},
   "outputs": [
    {
     "name": "stdout",
     "output_type": "stream",
     "text": [
      "   id keyword location                                               text  \\\n",
      "0   1     NaN      NaN  Our Deeds are the Reason of this #earthquake M...   \n",
      "1   4     NaN      NaN             Forest fire near La Ronge Sask. Canada   \n",
      "2   5     NaN      NaN  All residents asked to 'shelter in place' are ...   \n",
      "3   6     NaN      NaN  13,000 people receive #wildfires evacuation or...   \n",
      "4   7     NaN      NaN  Just got sent this photo from Ruby #Alaska as ...   \n",
      "\n",
      "   target  char_count  word_count  sent_count  cap_char_count  cap_word_count  \\\n",
      "0       1          69          13           1              10               1   \n",
      "1       1          38           7           2               5               0   \n",
      "2       1         133          22           2               2               0   \n",
      "3       1          65           8           1               1               0   \n",
      "4       1          88          16           1               3               0   \n",
      "\n",
      "   ...  [ count  \\ count  ] count  ^ count  _ count  ` count  { count  \\\n",
      "0  ...        0        0        0        0        0        0        0   \n",
      "1  ...        0        0        0        0        0        0        0   \n",
      "2  ...        0        0        0        0        0        0        0   \n",
      "3  ...        0        0        0        0        0        0        0   \n",
      "4  ...        0        0        0        0        0        0        0   \n",
      "\n",
      "   | count  } count  ~ count  \n",
      "0        0        0        0  \n",
      "1        0        0        0  \n",
      "2        0        0        0  \n",
      "3        0        0        0  \n",
      "4        0        0        0  \n",
      "\n",
      "[5 rows x 47 columns]\n"
     ]
    }
   ],
   "source": [
    "print(train.head())"
   ]
  },
  {
   "cell_type": "code",
   "execution_count": 6,
   "id": "a109085b",
   "metadata": {},
   "outputs": [
    {
     "data": {
      "image/png": "[encoded data removed]",
      "text/plain": [
       "<Figure size 432x288 with 1 Axes>"
      ]
     },
     "metadata": {
      "needs_background": "light"
     },
     "output_type": "display_data"
    }
   ],
   "source": [
    "import matplotlib.pyplot as plt\n",
    "category='char_count'\n",
    "xpoints0 = train.loc[train['target'] == 0][category]\n",
    "plt.hist(xpoints0)\n",
    "plt.show()"
   ]
  },
  {
   "cell_type": "code",
   "execution_count": 7,
   "id": "dc91a89b",
   "metadata": {},
   "outputs": [
    {
     "data": {
      "image/png": "[encoded data removed]",
      "text/plain": [
       "<Figure size 432x288 with 1 Axes>"
      ]
     },
     "metadata": {
      "needs_background": "light"
     },
     "output_type": "display_data"
    }
   ],
   "source": [
    "xpoints1 = train.loc[train['target'] == 1][category]\n",
    "plt.hist(xpoints1)\n",
    "plt.show()"
   ]
  },
  {
   "cell_type": "code",
   "execution_count": 8,
   "id": "b3bb7cff",
   "metadata": {},
   "outputs": [],
   "source": [
    "import sklearn"
   ]
  },
  {
   "cell_type": "code",
   "execution_count": 9,
   "id": "046fdd1e",
   "metadata": {},
   "outputs": [],
   "source": [
    "from sklearn.linear_model import LogisticRegression\n",
    "X = train[['char_count', 'word_count', 'sent_count', 'cap_char_count', 'cap_word_count']].to_numpy()\n",
    "y = train['target']"
   ]
  },
  {
   "cell_type": "code",
   "execution_count": 16,
   "id": "83ab6337",
   "metadata": {},
   "outputs": [
    {
     "name": "stdout",
     "output_type": "stream",
     "text": [
      "[LibLinear]iter  1 act 2.250e+02 pre 2.193e+02 delta 1.609e-01 f 5.277e+03 |g| 2.384e+04 CG   3\n",
      "cg reaches trust region boundary\n",
      "iter  2 act 6.637e+01 pre 6.606e+01 delta 3.619e-01 f 5.052e+03 |g| 1.043e+03 CG   2\n",
      "cg reaches trust region boundary\n",
      "iter  3 act 5.874e+01 pre 5.748e+01 delta 4.126e-01 f 4.986e+03 |g| 9.030e+02 CG   5\n",
      "iter  4 act 1.191e+01 pre 1.193e+01 delta 4.126e-01 f 4.927e+03 |g| 2.734e+02 CG   4\n",
      "iter  5 act 3.605e-01 pre 3.585e-01 delta 4.126e-01 f 4.915e+03 |g| 1.688e+02 CG   4\n",
      "iter  6 act 1.255e-02 pre 1.255e-02 delta 4.126e-01 f 4.915e+03 |g| 5.637e+00 CG   5\n"
     ]
    }
   ],
   "source": [
    "clf = LogisticRegression(class_weight='balanced', verbose=10, solver='liblinear').fit(X, y)"
   ]
  },
  {
   "cell_type": "code",
   "execution_count": 17,
   "id": "a73fbbf7",
   "metadata": {},
   "outputs": [
    {
     "name": "stdout",
     "output_type": "stream",
     "text": [
      "[0 0 0 ... 0 1 1]\n",
      "0       1\n",
      "1       1\n",
      "2       1\n",
      "3       1\n",
      "4       1\n",
      "       ..\n",
      "7608    1\n",
      "7609    1\n",
      "7610    1\n",
      "7611    1\n",
      "7612    1\n",
      "Name: target, Length: 7613, dtype: int64\n"
     ]
    }
   ],
   "source": [
    "print(clf.predict(X))\n",
    "print(y)"
   ]
  },
  {
   "cell_type": "code",
   "execution_count": 18,
   "id": "a82e4466",
   "metadata": {},
   "outputs": [
    {
     "name": "stdout",
     "output_type": "stream",
     "text": [
      "[[2756 1164]\n",
      " [1586 2107]]\n"
     ]
    }
   ],
   "source": [
    "from sklearn.metrics import confusion_matrix\n",
    "print(confusion_matrix(clf.predict(X), y))"
   ]
  },
  {
   "cell_type": "code",
   "execution_count": 20,
   "id": "095a69e4",
   "metadata": {},
   "outputs": [],
   "source": [
    "from sklearn.decomposition import PCA\n",
    "pca = PCA(n_components=2).fit_transform(X)"
   ]
  },
  {
   "cell_type": "code",
   "execution_count": 19,
   "id": "de990bec",
   "metadata": {},
   "outputs": [
    {
     "name": "stdout",
     "output_type": "stream",
     "text": [
      "Requirement already satisfied: torch in /usr/local/Cellar/jupyterlab/3.2.4/libexec/lib/python3.9/site-packages (1.10.0)\r\n",
      "Requirement already satisfied: typing-extensions in /usr/local/Cellar/jupyterlab/3.2.4/libexec/lib/python3.9/site-packages (from torch) (4.0.1)\r\n"
     ]
    }
   ],
   "source": [
    "## Pytorch stuff\n",
    "! /usr/local/Cellar/jupyterlab/3.2.4/libexec/bin/python3.9 -m pip install torch\n",
    "import torch"
   ]
  },
  {
   "cell_type": "code",
   "execution_count": 21,
   "id": "a8352b3d",
   "metadata": {},
   "outputs": [],
   "source": [
    "n_samples, n_features = X.shape\n",
    "from sklearn.model_selection import train_test_split\n",
    "y = y.to_numpy()\n",
    "x_train,x_test,y_train,y_test= train_test_split(X,y,test_size=0.2)\n"
   ]
  },
  {
   "cell_type": "code",
   "execution_count": 22,
   "id": "6298b4ac",
   "metadata": {},
   "outputs": [],
   "source": [
    "scaler=sklearn.preprocessing.StandardScaler()\n",
    "x_train=scaler.fit_transform(x_train)\n",
    "x_test=scaler.fit_transform(x_test)"
   ]
  },
  {
   "cell_type": "code",
   "execution_count": 23,
   "id": "e6d155ae",
   "metadata": {},
   "outputs": [],
   "source": [
    "x_train=torch.from_numpy(x_train.astype(np.float32))\n",
    "x_test=torch.from_numpy(x_test.astype(np.float32))\n",
    "y_train=torch.from_numpy(y_train.astype(np.float32))\n",
    "y_test=torch.from_numpy(y_test.astype(np.float32))"
   ]
  },
  {
   "cell_type": "code",
   "execution_count": 24,
   "id": "b99c9f14",
   "metadata": {},
   "outputs": [],
   "source": [
    "y_train=y_train.view(y_train.shape[0],1)\n",
    "y_test=y_test.view(y_test.shape[0],1)"
   ]
  },
  {
   "cell_type": "code",
   "execution_count": 32,
   "id": "064864f5",
   "metadata": {},
   "outputs": [],
   "source": [
    "class Logistic_Reg_model(torch.nn.Module):\n",
    " def __init__(self,no_input_features):\n",
    "   super(Logistic_Reg_model,self).__init__()\n",
    "   self.layer1=torch.nn.Linear(no_input_features,20)\n",
    "   self.layer2=torch.nn.Linear(20,1)\n",
    " def forward(self,x):\n",
    "   y_predicted=self.layer1(x)\n",
    "   y_predicted=torch.sigmoid(self.layer2(y_predicted))\n",
    "   return y_predicted"
   ]
  },
  {
   "cell_type": "code",
   "execution_count": 33,
   "id": "74c78096",
   "metadata": {},
   "outputs": [],
   "source": [
    "model=Logistic_Reg_model(n_features)"
   ]
  },
  {
   "cell_type": "code",
   "execution_count": 34,
   "id": "955b4bd9",
   "metadata": {},
   "outputs": [
    {
     "name": "stdout",
     "output_type": "stream",
     "text": [
      "epoch: 10 ,loss= 0.6779743432998657\n",
      "epoch: 20 ,loss= 0.6779710650444031\n",
      "epoch: 30 ,loss= 0.6779676675796509\n",
      "epoch: 40 ,loss= 0.6779643297195435\n",
      "epoch: 50 ,loss= 0.6779609322547913\n",
      "epoch: 60 ,loss= 0.6779575943946838\n",
      "epoch: 70 ,loss= 0.6779543161392212\n",
      "epoch: 80 ,loss= 0.6779508590698242\n",
      "epoch: 90 ,loss= 0.6779475808143616\n",
      "epoch: 100 ,loss= 0.6779441237449646\n"
     ]
    }
   ],
   "source": [
    "criterion=torch.nn.BCELoss()\n",
    "optimizer=torch.optim.SGD(model.parameters(),lr=0.00001)\n",
    "number_of_epochs=100\n",
    "for epoch in range(number_of_epochs):\n",
    " y_prediction=model(x_train)\n",
    " loss=criterion(y_prediction,y_train)\n",
    " loss.backward()\n",
    " optimizer.step()\n",
    " optimizer.zero_grad()\n",
    " if (epoch+1)%10 == 0:\n",
    "   print('epoch:', epoch+1,',loss=',loss.item())"
   ]
  },
  {
   "cell_type": "code",
   "execution_count": null,
   "id": "018a7f62",
   "metadata": {},
   "outputs": [],
   "source": []
  }
 ],
 "metadata": {
  "kernelspec": {
   "display_name": "Python 3",
   "language": "python",
   "name": "python3"
  },
  "language_info": {
   "codemirror_mode": {
    "name": "ipython",
    "version": 3
   },
   "file_extension": ".py",
   "mimetype": "text/x-python",
   "name": "python",
   "nbconvert_exporter": "python",
   "pygments_lexer": "ipython3",
   "version": "3.9.9"
  }
 },
 "nbformat": 4,
 "nbformat_minor": 5
}
