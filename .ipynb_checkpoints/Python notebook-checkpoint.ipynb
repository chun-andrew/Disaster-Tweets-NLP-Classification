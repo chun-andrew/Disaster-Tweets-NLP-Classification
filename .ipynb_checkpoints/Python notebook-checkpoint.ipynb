{
 "cells": [
  {
   "cell_type": "code",
   "execution_count": null,
   "id": "0ea3926f",
   "metadata": {},
   "outputs": [],
   "source": [
    "import sys\n",
    "!{sys.executable} -m pip install pandas\n",
    "!{sys.executable} -m pip install numpy\n",
    "!{sys.executable} -m pip install sklearn\n",
    "!{sys.executable} -m pip install seaborn\n",
    "!{sys.executable} -m pip install matplotlib\n",
    "!{sys.executable} -m pip install keras\n",
    "!{sys.executable} -m pip install tensorflow"
   ]
  },
  {
   "cell_type": "code",
   "execution_count": 1,
   "id": "406af77f",
   "metadata": {},
   "outputs": [],
   "source": [
    "import pandas as pd\n",
    "import numpy as np\n",
    "import sklearn\n",
    "import re\n",
    "import string\n",
    "import seaborn as sn\n",
    "import matplotlib.pyplot as plt\n",
    "import torch"
   ]
  },
  {
   "cell_type": "code",
   "execution_count": 2,
   "id": "88bb17fd",
   "metadata": {},
   "outputs": [],
   "source": [
    "from sklearn.feature_extraction.text import TfidfVectorizer\n",
    "from sklearn.linear_model import LogisticRegression\n",
    "from sklearn.metrics import confusion_matrix\n",
    "from sklearn.model_selection import train_test_split"
   ]
  },
  {
   "cell_type": "code",
   "execution_count": 3,
   "id": "060c3143",
   "metadata": {
    "scrolled": true
   },
   "outputs": [
    {
     "name": "stdout",
     "output_type": "stream",
     "text": [
      "                                                text  target\n",
      "0  Our Deeds are the Reason of this #earthquake M...       1\n",
      "1             Forest fire near La Ronge Sask. Canada       1\n",
      "2  All residents asked to 'shelter in place' are ...       1\n",
      "3  13,000 people receive #wildfires evacuation or...       1\n",
      "4  Just got sent this photo from Ruby #Alaska as ...       1\n"
     ]
    }
   ],
   "source": [
    "data = pd.read_csv('train.csv')\n",
    "data = data.drop(columns=['id', 'keyword', 'location'])\n",
    "\n",
    "print(data.head(5))"
   ]
  },
  {
   "cell_type": "code",
   "execution_count": 4,
   "id": "ac9330e0",
   "metadata": {},
   "outputs": [],
   "source": [
    "def remove_URL(text):\n",
    "    url = re.compile(r'https?://\\S+|www\\.\\S+')\n",
    "    return url.sub(r'',text)\n",
    "\n",
    "def remove_html(text):\n",
    "    html = re.compile(r'<.*?>')\n",
    "    return html.sub(r'',text)\n",
    "\n",
    "def remove_emoji(text):\n",
    "    emoji_pattern = re.compile(\"[\"\n",
    "                           u\"\\U0001F600-\\U0001F64F\"  # emoticons\n",
    "                           u\"\\U0001F300-\\U0001F5FF\"  # symbols & pictographs\n",
    "                           u\"\\U0001F680-\\U0001F6FF\"  # transport & map symbols\n",
    "                           u\"\\U0001F1E0-\\U0001F1FF\"  # flags (iOS)\n",
    "                           u\"\\U00002702-\\U000027B0\"\n",
    "                           u\"\\U000024C2-\\U0001F251\"\n",
    "                           \"]+\", flags=re.UNICODE)\n",
    "    return emoji_pattern.sub(r'', text)\n",
    "\n",
    "def remove_at(text):\n",
    "    at = re.compile(r'\\@(\\w+)')\n",
    "    return at.sub(r'', text)\n",
    "\n",
    "def remove_punct(text):\n",
    "    table = str.maketrans('','',string.punctuation)\n",
    "    return text.translate(table)"
   ]
  },
  {
   "cell_type": "code",
   "execution_count": 5,
   "id": "8de9250e",
   "metadata": {},
   "outputs": [],
   "source": [
    "def cleanTweets(data):\n",
    "    text = data['text']\n",
    "    text = text.apply(lambda x: remove_URL(x)) \\\n",
    "               .apply(lambda x: remove_html(x)) \\\n",
    "               .apply(lambda x: remove_emoji(x)) \\\n",
    "               .apply(lambda x: remove_at(x)) \\\n",
    "               .apply(lambda x: remove_punct(x))\n",
    "    return text.to_numpy()\n",
    "\n",
    "def obtainTargets(data):\n",
    "    return data['target'].to_numpy()"
   ]
  },
  {
   "cell_type": "code",
   "execution_count": 6,
   "id": "c4e44279",
   "metadata": {},
   "outputs": [
    {
     "name": "stdout",
     "output_type": "stream",
     "text": [
      "['Our Deeds are the Reason of this earthquake May ALLAH Forgive us all'\n",
      " 'Forest fire near La Ronge Sask Canada'\n",
      " 'All residents asked to shelter in place are being notified by officers No other evacuation or shelter in place orders are expected'\n",
      " ... 'M194 0104 UTC5km S of Volcano Hawaii '\n",
      " 'Police investigating after an ebike collided with a car in Little Portugal Ebike rider suffered serious nonlife threatening injuries'\n",
      " 'The Latest More Homes Razed by Northern California Wildfire  ABC News ']\n",
      "[1 1 1 ... 1 1 1]\n"
     ]
    }
   ],
   "source": [
    "X_data = cleanTweets(data)\n",
    "y_data = obtainTargets(data)\n",
    "\n",
    "print(X_data)\n",
    "print(y_data)"
   ]
  },
  {
   "cell_type": "code",
   "execution_count": 7,
   "id": "a233d73b",
   "metadata": {},
   "outputs": [],
   "source": [
    "X_train, X_test, y_train, y_test = train_test_split(X_data, y_data, test_size=0.2)"
   ]
  },
  {
   "cell_type": "code",
   "execution_count": 8,
   "id": "b836547e",
   "metadata": {},
   "outputs": [],
   "source": [
    "difference = len(np.where(y_data==0)[0])-len(np.where(y_data==1)[0])\n",
    "reversed_list = (np.sort(np.where(y_data==0)[0])[::-1])[:difference]\n",
    "\n",
    "X_data2 = X_data\n",
    "y_data2 = y_data\n",
    "\n",
    "for i in reversed_list:\n",
    "    X_data2 = np.delete(X_data2, i)\n",
    "    y_data2 = np.delete(y_data2, i)\n",
    "\n",
    "\n",
    "X_train, X_test, y_train, y_test = train_test_split(X_data2, y_data2, test_size=0.2)"
   ]
  },
  {
   "cell_type": "code",
   "execution_count": 9,
   "id": "2e207e27",
   "metadata": {},
   "outputs": [
    {
     "data": {
      "text/plain": [
       "<torch._C.Generator at 0x139cb5db0>"
      ]
     },
     "execution_count": 9,
     "metadata": {},
     "output_type": "execute_result"
    }
   ],
   "source": [
    "import torch.nn as nn\n",
    "import torch.nn.functional as F\n",
    "import torch.optim as optim\n",
    "torch.manual_seed(1)"
   ]
  },
  {
   "cell_type": "code",
   "execution_count": 10,
   "id": "e9282fa4",
   "metadata": {},
   "outputs": [],
   "source": [
    "import keras\n",
    "import tensorflow "
   ]
  },
  {
   "cell_type": "code",
   "execution_count": 11,
   "id": "a8659348",
   "metadata": {},
   "outputs": [],
   "source": [
    "from keras.models import Sequential\n",
    "from keras.layers import LSTM, Activation, Dense, Dropout, Input, Embedding\n",
    "from sklearn.preprocessing import LabelEncoder\n",
    "from tensorflow.keras.optimizers import RMSprop\n",
    "from keras.preprocessing.text import Tokenizer\n",
    "from keras.preprocessing import sequence\n",
    "from tensorflow.keras.utils import to_categorical\n",
    "from keras.callbacks import EarlyStopping"
   ]
  },
  {
   "cell_type": "code",
   "execution_count": 12,
   "id": "a3546953",
   "metadata": {},
   "outputs": [
    {
     "data": {
      "image/png": "[encoded data removed]",
      "text/plain": [
       "<Figure size 432x288 with 1 Axes>"
      ]
     },
     "metadata": {
      "needs_background": "light"
     },
     "output_type": "display_data"
    }
   ],
   "source": [
    "sn.countplot(x=y_test)\n",
    "plt.xlabel('Label')\n",
    "plt.title(\"Distribution of Tweet categories\")\n",
    "plt.show()"
   ]
  },
  {
   "cell_type": "code",
   "execution_count": 13,
   "id": "9961f0ea",
   "metadata": {},
   "outputs": [],
   "source": [
    "le = LabelEncoder()\n",
    "Y = y_data2\n",
    "Y = le.fit_transform(Y)\n",
    "Y = Y.reshape(-1,1)"
   ]
  },
  {
   "cell_type": "code",
   "execution_count": 14,
   "id": "6b472b48",
   "metadata": {},
   "outputs": [],
   "source": [
    "max_words = 10000\n",
    "max_len = 30\n",
    "tok = Tokenizer(num_words=max_words)\n",
    "tok.fit_on_texts(X_train)\n",
    "sequences = tok.texts_to_sequences(X_train)\n",
    "sequences_matrix = sequence.pad_sequences(sequences,maxlen=max_len)"
   ]
  },
  {
   "cell_type": "code",
   "execution_count": 70,
   "id": "9f9138a5",
   "metadata": {},
   "outputs": [],
   "source": [
    "def RNN():\n",
    "    model = Sequential()\n",
    "    model.add(Input(name='inputs',shape=[max_len]))\n",
    "    model.add(Embedding(max_words,50,input_length=max_len))\n",
    "    model.add(LSTM(15))\n",
    "    model.add(Dropout(0.3))\n",
    "    model.add(Dense(5))\n",
    "    model.add(Dropout(0.3))\n",
    "    model.add(Dense(1,name='out_layer'))\n",
    "    model.add(Activation('relu'))\n",
    "    return model"
   ]
  },
  {
   "cell_type": "code",
   "execution_count": 71,
   "id": "8107103c",
   "metadata": {},
   "outputs": [
    {
     "name": "stdout",
     "output_type": "stream",
     "text": [
      "Model: \"sequential_5\"\n",
      "_________________________________________________________________\n",
      " Layer (type)                Output Shape              Param #   \n",
      "=================================================================\n",
      " embedding_5 (Embedding)     (None, 30, 50)            500000    \n",
      "                                                                 \n",
      " lstm_5 (LSTM)               (None, 15)                3960      \n",
      "                                                                 \n",
      " dropout_7 (Dropout)         (None, 15)                0         \n",
      "                                                                 \n",
      " dense_4 (Dense)             (None, 5)                 80        \n",
      "                                                                 \n",
      " dropout_8 (Dropout)         (None, 5)                 0         \n",
      "                                                                 \n",
      " out_layer (Dense)           (None, 1)                 6         \n",
      "                                                                 \n",
      " activation_5 (Activation)   (None, 1)                 0         \n",
      "                                                                 \n",
      "=================================================================\n",
      "Total params: 504,046\n",
      "Trainable params: 504,046\n",
      "Non-trainable params: 0\n",
      "_________________________________________________________________\n"
     ]
    }
   ],
   "source": [
    "model = RNN()\n",
    "model.summary()\n",
    "model.compile(loss='binary_crossentropy',optimizer=RMSprop(learning_rate=0.00005),metrics=['accuracy'])"
   ]
  },
  {
   "cell_type": "code",
   "execution_count": 72,
   "id": "88a02909",
   "metadata": {},
   "outputs": [
    {
     "name": "stdout",
     "output_type": "stream",
     "text": [
      "Epoch 1/200\n",
      "17/17 [==============================] - 3s 57ms/step - loss: 5.5872 - accuracy: 0.4897 - val_loss: 4.8645 - val_accuracy: 0.5425\n",
      "Epoch 2/200\n",
      "17/17 [==============================] - 0s 26ms/step - loss: 4.6579 - accuracy: 0.4897 - val_loss: 4.0639 - val_accuracy: 0.5425\n",
      "Epoch 3/200\n",
      "17/17 [==============================] - 0s 26ms/step - loss: 4.1870 - accuracy: 0.4897 - val_loss: 3.4790 - val_accuracy: 0.5425\n",
      "Epoch 4/200\n",
      "17/17 [==============================] - 0s 26ms/step - loss: 3.6745 - accuracy: 0.4897 - val_loss: 2.9096 - val_accuracy: 0.5425\n",
      "Epoch 5/200\n",
      "17/17 [==============================] - 0s 26ms/step - loss: 3.3098 - accuracy: 0.4897 - val_loss: 2.3871 - val_accuracy: 0.5425\n",
      "Epoch 6/200\n",
      "17/17 [==============================] - 0s 29ms/step - loss: 2.7472 - accuracy: 0.4897 - val_loss: 2.0715 - val_accuracy: 0.5425\n",
      "Epoch 7/200\n",
      "17/17 [==============================] - 0s 27ms/step - loss: 2.6185 - accuracy: 0.4897 - val_loss: 1.9237 - val_accuracy: 0.5425\n",
      "Epoch 8/200\n",
      "17/17 [==============================] - 0s 25ms/step - loss: 2.4007 - accuracy: 0.4897 - val_loss: 1.7101 - val_accuracy: 0.5425\n",
      "Epoch 9/200\n",
      "17/17 [==============================] - 0s 26ms/step - loss: 2.1761 - accuracy: 0.4897 - val_loss: 1.5570 - val_accuracy: 0.5425\n",
      "Epoch 10/200\n",
      "17/17 [==============================] - 0s 29ms/step - loss: 1.9996 - accuracy: 0.4897 - val_loss: 1.4697 - val_accuracy: 0.5425\n",
      "Epoch 11/200\n",
      "17/17 [==============================] - 0s 26ms/step - loss: 1.8406 - accuracy: 0.4897 - val_loss: 1.3755 - val_accuracy: 0.5425\n",
      "Epoch 12/200\n",
      "17/17 [==============================] - 0s 27ms/step - loss: 1.6925 - accuracy: 0.4897 - val_loss: 1.3052 - val_accuracy: 0.5425\n",
      "Epoch 13/200\n",
      "17/17 [==============================] - 0s 28ms/step - loss: 1.5559 - accuracy: 0.4897 - val_loss: 1.2385 - val_accuracy: 0.5425\n",
      "Epoch 14/200\n",
      "17/17 [==============================] - 0s 27ms/step - loss: 1.4604 - accuracy: 0.4897 - val_loss: 1.1764 - val_accuracy: 0.5425\n",
      "Epoch 15/200\n",
      "17/17 [==============================] - 0s 27ms/step - loss: 1.3903 - accuracy: 0.4897 - val_loss: 1.1362 - val_accuracy: 0.5425\n",
      "Epoch 16/200\n",
      "17/17 [==============================] - 0s 27ms/step - loss: 1.3606 - accuracy: 0.4897 - val_loss: 1.1075 - val_accuracy: 0.5425\n",
      "Epoch 17/200\n",
      "17/17 [==============================] - 0s 26ms/step - loss: 1.3093 - accuracy: 0.4897 - val_loss: 1.0853 - val_accuracy: 0.5425\n",
      "Epoch 18/200\n",
      "17/17 [==============================] - 1s 30ms/step - loss: 1.2848 - accuracy: 0.4897 - val_loss: 1.0585 - val_accuracy: 0.5425\n",
      "Epoch 19/200\n",
      "17/17 [==============================] - 0s 27ms/step - loss: 1.2417 - accuracy: 0.4897 - val_loss: 1.0269 - val_accuracy: 0.5425\n",
      "Epoch 20/200\n",
      "17/17 [==============================] - 0s 26ms/step - loss: 1.1921 - accuracy: 0.4897 - val_loss: 0.9909 - val_accuracy: 0.5425\n",
      "Epoch 21/200\n",
      "17/17 [==============================] - 0s 28ms/step - loss: 1.1460 - accuracy: 0.4897 - val_loss: 0.9529 - val_accuracy: 0.5425\n",
      "Epoch 22/200\n",
      "17/17 [==============================] - 0s 27ms/step - loss: 1.1142 - accuracy: 0.4897 - val_loss: 0.9146 - val_accuracy: 0.5425\n",
      "Epoch 23/200\n",
      "17/17 [==============================] - 0s 26ms/step - loss: 1.0691 - accuracy: 0.4897 - val_loss: 0.8807 - val_accuracy: 0.5425\n",
      "Epoch 24/200\n",
      "17/17 [==============================] - 0s 27ms/step - loss: 1.0142 - accuracy: 0.4897 - val_loss: 0.8479 - val_accuracy: 0.5425\n",
      "Epoch 25/200\n",
      "17/17 [==============================] - 0s 27ms/step - loss: 0.9949 - accuracy: 0.4900 - val_loss: 0.8175 - val_accuracy: 0.5425\n",
      "Epoch 26/200\n",
      "17/17 [==============================] - 0s 26ms/step - loss: 0.9404 - accuracy: 0.4924 - val_loss: 0.7895 - val_accuracy: 0.5425\n",
      "Epoch 27/200\n",
      "17/17 [==============================] - 0s 28ms/step - loss: 0.9170 - accuracy: 0.4990 - val_loss: 0.7654 - val_accuracy: 0.5425\n",
      "Epoch 28/200\n",
      "17/17 [==============================] - 0s 29ms/step - loss: 0.8890 - accuracy: 0.5060 - val_loss: 0.7529 - val_accuracy: 0.5425\n",
      "Epoch 29/200\n",
      "17/17 [==============================] - 0s 27ms/step - loss: 0.8692 - accuracy: 0.5170 - val_loss: 0.7393 - val_accuracy: 0.5425\n",
      "Epoch 30/200\n",
      "17/17 [==============================] - 1s 30ms/step - loss: 0.8508 - accuracy: 0.5251 - val_loss: 0.7246 - val_accuracy: 0.5425\n",
      "Epoch 31/200\n",
      "17/17 [==============================] - 0s 26ms/step - loss: 0.8362 - accuracy: 0.5308 - val_loss: 0.7092 - val_accuracy: 0.5425\n",
      "Epoch 32/200\n",
      "17/17 [==============================] - 0s 27ms/step - loss: 0.8181 - accuracy: 0.5430 - val_loss: 0.6944 - val_accuracy: 0.5425\n",
      "Epoch 33/200\n",
      "17/17 [==============================] - 0s 28ms/step - loss: 0.7873 - accuracy: 0.5552 - val_loss: 0.6820 - val_accuracy: 0.5425\n",
      "Epoch 34/200\n",
      "17/17 [==============================] - 0s 29ms/step - loss: 0.7723 - accuracy: 0.5595 - val_loss: 0.6714 - val_accuracy: 0.5435\n",
      "Epoch 35/200\n",
      "17/17 [==============================] - 0s 28ms/step - loss: 0.7630 - accuracy: 0.5698 - val_loss: 0.6623 - val_accuracy: 0.5559\n",
      "Epoch 36/200\n",
      "17/17 [==============================] - 0s 29ms/step - loss: 0.7572 - accuracy: 0.5626 - val_loss: 0.6552 - val_accuracy: 0.5750\n",
      "Epoch 37/200\n",
      "17/17 [==============================] - 0s 28ms/step - loss: 0.7374 - accuracy: 0.5791 - val_loss: 0.6494 - val_accuracy: 0.5941\n",
      "Epoch 38/200\n",
      "17/17 [==============================] - 0s 26ms/step - loss: 0.7251 - accuracy: 0.5779 - val_loss: 0.6441 - val_accuracy: 0.6074\n",
      "Epoch 39/200\n",
      "17/17 [==============================] - 0s 27ms/step - loss: 0.7257 - accuracy: 0.5726 - val_loss: 0.6390 - val_accuracy: 0.6227\n",
      "Epoch 40/200\n",
      "17/17 [==============================] - 0s 28ms/step - loss: 0.7123 - accuracy: 0.5891 - val_loss: 0.6338 - val_accuracy: 0.6648\n",
      "Epoch 41/200\n",
      "17/17 [==============================] - 0s 26ms/step - loss: 0.7029 - accuracy: 0.5948 - val_loss: 0.6291 - val_accuracy: 0.6743\n",
      "Epoch 42/200\n",
      "17/17 [==============================] - 0s 26ms/step - loss: 0.7108 - accuracy: 0.5953 - val_loss: 0.6241 - val_accuracy: 0.6867\n",
      "Epoch 43/200\n",
      "17/17 [==============================] - 0s 26ms/step - loss: 0.6849 - accuracy: 0.6192 - val_loss: 0.6190 - val_accuracy: 0.7030\n",
      "Epoch 44/200\n",
      "17/17 [==============================] - 0s 28ms/step - loss: 0.6716 - accuracy: 0.6266 - val_loss: 0.6138 - val_accuracy: 0.7211\n",
      "Epoch 45/200\n",
      "17/17 [==============================] - 0s 27ms/step - loss: 0.6827 - accuracy: 0.6190 - val_loss: 0.6086 - val_accuracy: 0.7278\n",
      "Epoch 46/200\n",
      "17/17 [==============================] - 0s 27ms/step - loss: 0.6483 - accuracy: 0.6438 - val_loss: 0.6032 - val_accuracy: 0.7412\n",
      "Epoch 47/200\n",
      "17/17 [==============================] - 0s 28ms/step - loss: 0.6518 - accuracy: 0.6448 - val_loss: 0.5980 - val_accuracy: 0.7421\n",
      "Epoch 48/200\n",
      "17/17 [==============================] - 1s 32ms/step - loss: 0.6373 - accuracy: 0.6534 - val_loss: 0.5929 - val_accuracy: 0.7479\n",
      "Epoch 49/200\n",
      "17/17 [==============================] - 1s 31ms/step - loss: 0.6330 - accuracy: 0.6677 - val_loss: 0.5876 - val_accuracy: 0.7536\n",
      "Epoch 50/200\n",
      "17/17 [==============================] - 1s 30ms/step - loss: 0.6331 - accuracy: 0.6667 - val_loss: 0.5824 - val_accuracy: 0.7526\n",
      "Epoch 51/200\n",
      "17/17 [==============================] - 1s 31ms/step - loss: 0.6270 - accuracy: 0.6715 - val_loss: 0.5772 - val_accuracy: 0.7555\n",
      "Epoch 52/200\n",
      "17/17 [==============================] - 0s 26ms/step - loss: 0.6140 - accuracy: 0.6816 - val_loss: 0.5727 - val_accuracy: 0.7564\n",
      "Epoch 53/200\n",
      "17/17 [==============================] - 0s 27ms/step - loss: 0.5888 - accuracy: 0.6918 - val_loss: 0.5765 - val_accuracy: 0.7641\n",
      "Epoch 54/200\n",
      "17/17 [==============================] - 1s 30ms/step - loss: 0.5895 - accuracy: 0.6964 - val_loss: 0.5709 - val_accuracy: 0.7670\n",
      "Epoch 55/200\n",
      "17/17 [==============================] - 1s 32ms/step - loss: 0.5718 - accuracy: 0.7152 - val_loss: 0.5651 - val_accuracy: 0.7670\n",
      "Epoch 56/200\n",
      "17/17 [==============================] - 1s 34ms/step - loss: 0.5596 - accuracy: 0.7274 - val_loss: 0.5592 - val_accuracy: 0.7708\n",
      "Epoch 57/200\n",
      "17/17 [==============================] - 1s 33ms/step - loss: 0.5691 - accuracy: 0.7172 - val_loss: 0.5533 - val_accuracy: 0.7698\n",
      "Epoch 58/200\n"
     ]
    },
    {
     "name": "stdout",
     "output_type": "stream",
     "text": [
      "17/17 [==============================] - 1s 33ms/step - loss: 0.5459 - accuracy: 0.7253 - val_loss: 0.5471 - val_accuracy: 0.7765\n",
      "Epoch 59/200\n",
      "17/17 [==============================] - 0s 29ms/step - loss: 0.5433 - accuracy: 0.7322 - val_loss: 0.5425 - val_accuracy: 0.7727\n",
      "Epoch 60/200\n",
      "17/17 [==============================] - 0s 28ms/step - loss: 0.5393 - accuracy: 0.7274 - val_loss: 0.5383 - val_accuracy: 0.7746\n",
      "Epoch 61/200\n",
      "17/17 [==============================] - 1s 31ms/step - loss: 0.5425 - accuracy: 0.7391 - val_loss: 0.5330 - val_accuracy: 0.7813\n",
      "Epoch 62/200\n",
      "17/17 [==============================] - 1s 32ms/step - loss: 0.5239 - accuracy: 0.7408 - val_loss: 0.5270 - val_accuracy: 0.7765\n",
      "Epoch 63/200\n",
      "17/17 [==============================] - 0s 28ms/step - loss: 0.5104 - accuracy: 0.7580 - val_loss: 0.5215 - val_accuracy: 0.7794\n",
      "Epoch 64/200\n",
      "17/17 [==============================] - 1s 30ms/step - loss: 0.5054 - accuracy: 0.7530 - val_loss: 0.5160 - val_accuracy: 0.7784\n",
      "Epoch 65/200\n",
      "17/17 [==============================] - 1s 30ms/step - loss: 0.4917 - accuracy: 0.7647 - val_loss: 0.5113 - val_accuracy: 0.7803\n",
      "Epoch 66/200\n",
      "17/17 [==============================] - 1s 30ms/step - loss: 0.4967 - accuracy: 0.7764 - val_loss: 0.5065 - val_accuracy: 0.7851\n",
      "Epoch 67/200\n",
      "17/17 [==============================] - 1s 30ms/step - loss: 0.4964 - accuracy: 0.7664 - val_loss: 0.5031 - val_accuracy: 0.7870\n",
      "Epoch 68/200\n",
      "17/17 [==============================] - 1s 30ms/step - loss: 0.4597 - accuracy: 0.7774 - val_loss: 0.4997 - val_accuracy: 0.7880\n",
      "Epoch 69/200\n",
      "17/17 [==============================] - 1s 31ms/step - loss: 0.4626 - accuracy: 0.7788 - val_loss: 0.4967 - val_accuracy: 0.7908\n",
      "Epoch 70/200\n",
      "17/17 [==============================] - 1s 31ms/step - loss: 0.4401 - accuracy: 0.7931 - val_loss: 0.4962 - val_accuracy: 0.7870\n",
      "Epoch 71/200\n",
      "17/17 [==============================] - 0s 29ms/step - loss: 0.4517 - accuracy: 0.7938 - val_loss: 0.4976 - val_accuracy: 0.7880\n",
      "Epoch 72/200\n",
      "17/17 [==============================] - 0s 29ms/step - loss: 0.4526 - accuracy: 0.7785 - val_loss: 0.4980 - val_accuracy: 0.7880\n",
      "Epoch 73/200\n",
      "17/17 [==============================] - 0s 29ms/step - loss: 0.4353 - accuracy: 0.7998 - val_loss: 0.5127 - val_accuracy: 0.7880\n",
      "Epoch 74/200\n",
      "17/17 [==============================] - 1s 31ms/step - loss: 0.4380 - accuracy: 0.7938 - val_loss: 0.5111 - val_accuracy: 0.7889\n",
      "Epoch 75/200\n",
      "17/17 [==============================] - 1s 30ms/step - loss: 0.4474 - accuracy: 0.7941 - val_loss: 0.5097 - val_accuracy: 0.7899\n"
     ]
    }
   ],
   "source": [
    "history = model.fit(sequences_matrix,y_train,batch_size=256,epochs=200,\n",
    "          validation_split=0.2,callbacks=[EarlyStopping(patience=5,monitor='val_loss', restore_best_weights=True)])"
   ]
  },
  {
   "cell_type": "code",
   "execution_count": 73,
   "id": "224541e5",
   "metadata": {},
   "outputs": [],
   "source": [
    "test_sequences = tok.texts_to_sequences(X_test)\n",
    "test_sequences_matrix = sequence.pad_sequences(test_sequences,maxlen=max_len)"
   ]
  },
  {
   "cell_type": "code",
   "execution_count": 74,
   "id": "f133ebd4",
   "metadata": {},
   "outputs": [
    {
     "name": "stdout",
     "output_type": "stream",
     "text": [
      "41/41 [==============================] - 0s 4ms/step - loss: 0.5326 - accuracy: 0.7609\n"
     ]
    }
   ],
   "source": [
    "accr = model.evaluate(test_sequences_matrix,y_test)"
   ]
  },
  {
   "cell_type": "code",
   "execution_count": 75,
   "id": "4d10e88b",
   "metadata": {},
   "outputs": [
    {
     "data": {
      "image/png": "[encoded data removed]",
      "text/plain": [
       "<Figure size 432x288 with 1 Axes>"
      ]
     },
     "metadata": {
      "needs_background": "light"
     },
     "output_type": "display_data"
    }
   ],
   "source": [
    "plt.plot(history.history['accuracy'])\n",
    "plt.plot(history.history['val_accuracy'])\n",
    "plt.title('Model accuracy')\n",
    "plt.ylabel('Accuracy')\n",
    "plt.xlabel('Epoch')\n",
    "plt.legend(['Train', 'Validation'], loc='upper left')\n",
    "plt.show()"
   ]
  },
  {
   "cell_type": "code",
   "execution_count": 76,
   "id": "928227c6",
   "metadata": {},
   "outputs": [
    {
     "data": {
      "image/png": "[encoded data removed]",
      "text/plain": [
       "<Figure size 432x288 with 1 Axes>"
      ]
     },
     "metadata": {
      "needs_background": "light"
     },
     "output_type": "display_data"
    }
   ],
   "source": [
    "plt.plot(history.history['loss'])\n",
    "plt.plot(history.history['val_loss'])\n",
    "plt.title('Model loss')\n",
    "plt.ylabel('Loss')\n",
    "plt.xlabel('Epoch')\n",
    "plt.legend(['Train', 'Validation'], loc='lower left')\n",
    "plt.show()"
   ]
  },
  {
   "cell_type": "code",
   "execution_count": 78,
   "id": "b1638837",
   "metadata": {},
   "outputs": [
    {
     "name": "stdout",
     "output_type": "stream",
     "text": [
      "[[552 212]\n",
      " [101 444]]\n"
     ]
    }
   ],
   "source": [
    "tn, fp, fn, tp = confusion_matrix(np.round(model.predict(test_sequences_matrix)), y_test).ravel()\n",
    "cm = np.array([[tn, fp], [fn, tp]])\n",
    "print(cm)"
   ]
  },
  {
   "cell_type": "code",
   "execution_count": 79,
   "id": "2fedb0ca",
   "metadata": {},
   "outputs": [
    {
     "data": {
      "image/png": "[encoded data removed]",
      "text/plain": [
       "<Figure size 432x288 with 2 Axes>"
      ]
     },
     "metadata": {},
     "output_type": "display_data"
    }
   ],
   "source": [
    "df_cm = pd.DataFrame(cm, ['Not a disaster', 'Disaster'], ['Not a disaster', 'Disaster'])\n",
    "sn.set(font_scale=1.4) # for label size\n",
    "sn.heatmap(df_cm, annot=True, square=\"True\", cmap=\"Blues\", fmt=\"d\")\n",
    "plt.title(\"LSTM confusion matrix\\n\", fontsize=18)\n",
    "plt.xlabel(\"Predicted\")\n",
    "plt.ylabel(\"Actual\")\n",
    "plt.show()"
   ]
  },
  {
   "cell_type": "code",
   "execution_count": 80,
   "id": "c42dccb9",
   "metadata": {},
   "outputs": [],
   "source": [
    "vectorizer = TfidfVectorizer()\n",
    "X = vectorizer.fit_transform(X_train)\n",
    "y = y_train"
   ]
  },
  {
   "cell_type": "code",
   "execution_count": 81,
   "id": "4513b7be",
   "metadata": {},
   "outputs": [
    {
     "name": "stdout",
     "output_type": "stream",
     "text": [
      "['0011' '001116' '005225' ... 'ûónegligence' 'ûótech' 'ûówe']\n",
      "(5233, 12466)\n"
     ]
    }
   ],
   "source": [
    "print(vectorizer.get_feature_names_out())\n",
    "print(X.shape)"
   ]
  },
  {
   "cell_type": "code",
   "execution_count": 82,
   "id": "9fb1a1e3",
   "metadata": {},
   "outputs": [
    {
     "name": "stdout",
     "output_type": "stream",
     "text": [
      "convergence after 22 epochs took 0 seconds\n"
     ]
    },
    {
     "name": "stderr",
     "output_type": "stream",
     "text": [
      "[Parallel(n_jobs=1)]: Using backend SequentialBackend with 1 concurrent workers.\n",
      "[Parallel(n_jobs=1)]: Done   1 out of   1 | elapsed:    0.1s remaining:    0.0s\n",
      "[Parallel(n_jobs=1)]: Done   1 out of   1 | elapsed:    0.1s finished\n"
     ]
    }
   ],
   "source": [
    "logistic_regression_model = LogisticRegression(verbose=3, solver=\"saga\").fit(X, y)"
   ]
  },
  {
   "cell_type": "code",
   "execution_count": 83,
   "id": "eeb3ff2d",
   "metadata": {},
   "outputs": [
    {
     "name": "stdout",
     "output_type": "stream",
     "text": [
      "0.7922077922077922\n"
     ]
    }
   ],
   "source": [
    "print(logistic_regression_model.score(vectorizer.transform(X_test), y_test))"
   ]
  },
  {
   "cell_type": "code",
   "execution_count": 84,
   "id": "c09cf77c",
   "metadata": {},
   "outputs": [
    {
     "name": "stdout",
     "output_type": "stream",
     "text": [
      "[[556 175]\n",
      " [ 97 481]]\n"
     ]
    }
   ],
   "source": [
    "from sklearn.metrics import confusion_matrix\n",
    "tn, fp, fn, tp = confusion_matrix(logistic_regression_model.predict(vectorizer.transform(X_test)), y_test).ravel()\n",
    "cm = np.array([[tn, fp], [fn, tp]])\n",
    "print(cm)"
   ]
  },
  {
   "cell_type": "code",
   "execution_count": 85,
   "id": "81263e39",
   "metadata": {},
   "outputs": [
    {
     "data": {
      "image/png": "[encoded data removed]",
      "text/plain": [
       "<Figure size 432x288 with 2 Axes>"
      ]
     },
     "metadata": {},
     "output_type": "display_data"
    }
   ],
   "source": [
    "df_cm = pd.DataFrame(cm, ['Not a disaster', 'Disaster'], ['Not a disaster', 'Disaster'])\n",
    "sn.set(font_scale=1.4) # for label size\n",
    "sn.heatmap(df_cm, annot=True, square=\"True\", cmap=\"Blues\", fmt=\"d\")\n",
    "plt.title(\"Logistic regression confusion matrix\\n\", fontsize=18)\n",
    "plt.xlabel(\"Predicted\")\n",
    "plt.ylabel(\"Actual\")\n",
    "plt.show()"
   ]
  }
 ],
 "metadata": {
  "kernelspec": {
   "display_name": "Python 3",
   "language": "python",
   "name": "python3"
  },
  "language_info": {
   "codemirror_mode": {
    "name": "ipython",
    "version": 3
   },
   "file_extension": ".py",
   "mimetype": "text/x-python",
   "name": "python",
   "nbconvert_exporter": "python",
   "pygments_lexer": "ipython3",
   "version": "3.9.9"
  }
 },
 "nbformat": 4,
 "nbformat_minor": 5
}
